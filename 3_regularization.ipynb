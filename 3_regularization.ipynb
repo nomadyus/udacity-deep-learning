{
 "cells": [
  {
   "cell_type": "markdown",
   "metadata": {
    "colab_type": "text",
    "id": "kR-4eNdK6lYS"
   },
   "source": [
    "Deep Learning\n",
    "=============\n",
    "\n",
    "Assignment 3\n",
    "------------\n",
    "\n",
    "Previously in `2_fullyconnected.ipynb`, you trained a logistic regression and a neural network model.\n",
    "\n",
    "The goal of this assignment is to explore regularization techniques."
   ]
  },
  {
   "cell_type": "code",
   "execution_count": 1,
   "metadata": {
    "cellView": "both",
    "colab": {
     "autoexec": {
      "startup": false,
      "wait_interval": 0
     }
    },
    "colab_type": "code",
    "id": "JLpLa8Jt7Vu4"
   },
   "outputs": [],
   "source": [
    "# These are all the modules we'll be using later. Make sure you can import them\n",
    "# before proceeding further.\n",
    "from __future__ import print_function\n",
    "import numpy as np\n",
    "import tensorflow as tf\n",
    "from six.moves import cPickle as pickle\n",
    "import matplotlib.pyplot as plt"
   ]
  },
  {
   "cell_type": "markdown",
   "metadata": {
    "colab_type": "text",
    "id": "1HrCK6e17WzV"
   },
   "source": [
    "First reload the data we generated in `1_notmnist.ipynb`."
   ]
  },
  {
   "cell_type": "code",
   "execution_count": 2,
   "metadata": {
    "cellView": "both",
    "colab": {
     "autoexec": {
      "startup": false,
      "wait_interval": 0
     },
     "output_extras": [
      {
       "item_id": 1
      }
     ]
    },
    "colab_type": "code",
    "executionInfo": {
     "elapsed": 11777,
     "status": "ok",
     "timestamp": 1449849322348,
     "user": {
      "color": "",
      "displayName": "",
      "isAnonymous": false,
      "isMe": true,
      "permissionId": "",
      "photoUrl": "",
      "sessionId": "0",
      "userId": ""
     },
     "user_tz": 480
    },
    "id": "y3-cj1bpmuxc",
    "outputId": "e03576f1-ebbe-4838-c388-f1777bcc9873"
   },
   "outputs": [
    {
     "name": "stdout",
     "output_type": "stream",
     "text": [
      "Training set (200000, 28, 28) (200000,)\n",
      "Validation set (10000, 28, 28) (10000,)\n",
      "Test set (10000, 28, 28) (10000,)\n"
     ]
    }
   ],
   "source": [
    "pickle_file = 'notMNIST.pickle'\n",
    "\n",
    "with open(pickle_file, 'rb') as f:\n",
    "  save = pickle.load(f)\n",
    "  train_dataset = save['train_dataset']\n",
    "  train_labels = save['train_labels']\n",
    "  valid_dataset = save['valid_dataset']\n",
    "  valid_labels = save['valid_labels']\n",
    "  test_dataset = save['test_dataset']\n",
    "  test_labels = save['test_labels']\n",
    "  del save  # hint to help gc free up memory\n",
    "  print('Training set', train_dataset.shape, train_labels.shape)\n",
    "  print('Validation set', valid_dataset.shape, valid_labels.shape)\n",
    "  print('Test set', test_dataset.shape, test_labels.shape)"
   ]
  },
  {
   "cell_type": "markdown",
   "metadata": {
    "colab_type": "text",
    "id": "L7aHrm6nGDMB"
   },
   "source": [
    "Reformat into a shape that's more adapted to the models we're going to train:\n",
    "- data as a flat matrix,\n",
    "- labels as float 1-hot encodings."
   ]
  },
  {
   "cell_type": "code",
   "execution_count": 3,
   "metadata": {
    "cellView": "both",
    "colab": {
     "autoexec": {
      "startup": false,
      "wait_interval": 0
     },
     "output_extras": [
      {
       "item_id": 1
      }
     ]
    },
    "colab_type": "code",
    "executionInfo": {
     "elapsed": 11728,
     "status": "ok",
     "timestamp": 1449849322356,
     "user": {
      "color": "",
      "displayName": "",
      "isAnonymous": false,
      "isMe": true,
      "permissionId": "",
      "photoUrl": "",
      "sessionId": "0",
      "userId": ""
     },
     "user_tz": 480
    },
    "id": "IRSyYiIIGIzS",
    "outputId": "3f8996ee-3574-4f44-c953-5c8a04636582"
   },
   "outputs": [
    {
     "name": "stdout",
     "output_type": "stream",
     "text": [
      "Training set (200000, 784) (200000, 10)\n",
      "Validation set (10000, 784) (10000, 10)\n",
      "Test set (10000, 784) (10000, 10)\n"
     ]
    }
   ],
   "source": [
    "image_size = 28\n",
    "num_labels = 10\n",
    "\n",
    "def reformat(dataset, labels):\n",
    "  dataset = dataset.reshape((-1, image_size * image_size)).astype(np.float32)\n",
    "  # Map 1 to [0.0, 1.0, 0.0 ...], 2 to [0.0, 0.0, 1.0 ...]\n",
    "  labels = (np.arange(num_labels) == labels[:,None]).astype(np.float32)\n",
    "  return dataset, labels\n",
    "train_dataset, train_labels = reformat(train_dataset, train_labels)\n",
    "valid_dataset, valid_labels = reformat(valid_dataset, valid_labels)\n",
    "test_dataset, test_labels = reformat(test_dataset, test_labels)\n",
    "print('Training set', train_dataset.shape, train_labels.shape)\n",
    "print('Validation set', valid_dataset.shape, valid_labels.shape)\n",
    "print('Test set', test_dataset.shape, test_labels.shape)"
   ]
  },
  {
   "cell_type": "code",
   "execution_count": 4,
   "metadata": {
    "cellView": "both",
    "colab": {
     "autoexec": {
      "startup": false,
      "wait_interval": 0
     }
    },
    "colab_type": "code",
    "id": "RajPLaL_ZW6w"
   },
   "outputs": [],
   "source": [
    "def accuracy(predictions, labels):\n",
    "  return (100.0 * np.sum(np.argmax(predictions, 1) == np.argmax(labels, 1))\n",
    "          / predictions.shape[0])"
   ]
  },
  {
   "cell_type": "markdown",
   "metadata": {
    "colab_type": "text",
    "id": "sgLbUAQ1CW-1"
   },
   "source": [
    "---\n",
    "Problem 1\n",
    "---------\n",
    "\n",
    "Introduce and tune L2 regularization for both logistic and neural network models. Remember that L2 amounts to adding a penalty on the norm of the weights to the loss. In TensorFlow, you can compute the L2 loss for a tensor `t` using `nn.l2_loss(t)`. The right amount of regularization should improve your validation / test accuracy.\n",
    "\n",
    "---"
   ]
  },
  {
   "cell_type": "code",
   "execution_count": 5,
   "metadata": {},
   "outputs": [
    {
     "name": "stdout",
     "output_type": "stream",
     "text": [
      "Using L2 Regularization for Logistic Model\n",
      "Tensorflow Graph created\n",
      "Initialized\n",
      "Minibatch loss at step 0: 18.820042\n",
      "Minibatch accuracy: 16.4%\n",
      "Validation accuracy: 12.9%\n",
      "Minibatch loss at step 500: 2.343241\n",
      "Minibatch accuracy: 80.5%\n",
      "Validation accuracy: 75.6%\n",
      "Minibatch loss at step 1000: 1.846260\n",
      "Minibatch accuracy: 80.5%\n",
      "Validation accuracy: 78.2%\n",
      "Minibatch loss at step 1500: 0.977848\n",
      "Minibatch accuracy: 83.6%\n",
      "Validation accuracy: 79.6%\n",
      "Minibatch loss at step 2000: 0.813192\n",
      "Minibatch accuracy: 88.3%\n",
      "Validation accuracy: 80.6%\n",
      "Minibatch loss at step 2500: 0.851219\n",
      "Minibatch accuracy: 81.2%\n",
      "Validation accuracy: 81.2%\n",
      "Minibatch loss at step 3000: 0.785778\n",
      "Minibatch accuracy: 82.8%\n",
      "Validation accuracy: 81.7%\n",
      "Test accuracy: 88.8%\n"
     ]
    }
   ],
   "source": [
    "print('Using L2 Regularization for Logistic Model')\n",
    "batch_size = 128\n",
    "\n",
    "graph = tf.Graph()\n",
    "with graph.as_default():\n",
    "\n",
    "    # Input data. For the training data, we use a placeholder that will be fed\n",
    "    # at run time with a training minibatch.\n",
    "    tf_train_dataset = tf.placeholder(tf.float32,\n",
    "                                    shape=(batch_size, image_size * image_size))\n",
    "    tf_train_labels = tf.placeholder(tf.float32, shape=(batch_size, num_labels))\n",
    "    tf_valid_dataset = tf.constant(valid_dataset)\n",
    "    tf_test_dataset = tf.constant(test_dataset)\n",
    "    tf_l2_feature = tf.placeholder(tf.float32)\n",
    "\n",
    "    # Variables.\n",
    "    weights = tf.Variable(\n",
    "    tf.truncated_normal([image_size * image_size, num_labels]))\n",
    "    biases = tf.Variable(tf.zeros([num_labels]))\n",
    "\n",
    "    # Training computation.\n",
    "    logits = tf.matmul(tf_train_dataset, weights) + biases\n",
    "    loss = tf.reduce_mean(\n",
    "    tf.nn.softmax_cross_entropy_with_logits(labels=tf_train_labels, logits=logits)) + tf_l2_feature * tf.nn.l2_loss(weights)\n",
    "\n",
    "    # Optimizer.\n",
    "    optimizer = tf.train.GradientDescentOptimizer(0.5).minimize(loss)\n",
    "\n",
    "    # Predictions for the training, validation, and test data.\n",
    "    train_prediction = tf.nn.softmax(logits)\n",
    "    valid_prediction = tf.nn.softmax(\n",
    "    tf.matmul(tf_valid_dataset, weights) + biases)\n",
    "    test_prediction = tf.nn.softmax(tf.matmul(tf_test_dataset, weights) + biases)\n",
    "\n",
    "print('Tensorflow Graph created')\n",
    "\n",
    "num_steps = 3001\n",
    "\n",
    "with tf.Session(graph=graph) as session:\n",
    "    tf.global_variables_initializer().run()\n",
    "    print(\"Initialized\")\n",
    "    for step in range(num_steps):\n",
    "        # Pick an offset within the training data, which has been randomized.\n",
    "        # Note: we could use better randomization across epochs.\n",
    "        offset = (step * batch_size) % (train_labels.shape[0] - batch_size)\n",
    "        # Generate a minibatch.\n",
    "        batch_data = train_dataset[offset:(offset + batch_size), :]\n",
    "        batch_labels = train_labels[offset:(offset + batch_size), :]\n",
    "        # Prepare a dictionary telling the session where to feed the minibatch.\n",
    "        # The key of the dictionary is the placeholder node of the graph to be fed,\n",
    "        # and the value is the numpy array to feed to it.\n",
    "        feed_dict = {tf_train_dataset : batch_data, tf_train_labels : batch_labels, tf_l2_feature: 1e-3}\n",
    "        _, l, predictions = session.run(\n",
    "          [optimizer, loss, train_prediction], feed_dict=feed_dict)\n",
    "        if (step % 500 == 0):\n",
    "            print(\"Minibatch loss at step %d: %f\" % (step, l))\n",
    "            print(\"Minibatch accuracy: %.1f%%\" % accuracy(predictions, batch_labels))\n",
    "            print(\"Validation accuracy: %.1f%%\" % accuracy(valid_prediction.eval(), valid_labels))\n",
    "    print(\"Test accuracy: %.1f%%\" % accuracy(test_prediction.eval(), test_labels))"
   ]
  },
  {
   "cell_type": "code",
   "execution_count": 6,
   "metadata": {},
   "outputs": [
    {
     "name": "stdout",
     "output_type": "stream",
     "text": [
      "Tunning the L2 Regularization constant\n",
      "L2 Regularization constant of 0.000100 performed with 86.52% accuracy\n",
      "L2 Regularization constant of 0.000126 performed with 86.99% accuracy\n",
      "L2 Regularization constant of 0.000158 performed with 87.21% accuracy\n",
      "L2 Regularization constant of 0.000200 performed with 87.08% accuracy\n",
      "L2 Regularization constant of 0.000251 performed with 87.31% accuracy\n",
      "L2 Regularization constant of 0.000316 performed with 87.91% accuracy\n",
      "L2 Regularization constant of 0.000398 performed with 88.21% accuracy\n",
      "L2 Regularization constant of 0.000501 performed with 88.47% accuracy\n",
      "L2 Regularization constant of 0.000631 performed with 88.25% accuracy\n",
      "L2 Regularization constant of 0.000794 performed with 88.83% accuracy\n",
      "L2 Regularization constant of 0.001000 performed with 88.85% accuracy\n",
      "L2 Regularization constant of 0.001259 performed with 88.98% accuracy\n",
      "L2 Regularization constant of 0.001585 performed with 89.08% accuracy\n",
      "L2 Regularization constant of 0.001995 performed with 89.11% accuracy\n",
      "L2 Regularization constant of 0.002512 performed with 89.12% accuracy\n",
      "L2 Regularization constant of 0.003162 performed with 89.09% accuracy\n",
      "L2 Regularization constant of 0.003981 performed with 89.00% accuracy\n",
      "L2 Regularization constant of 0.005012 performed with 88.98% accuracy\n",
      "L2 Regularization constant of 0.006310 performed with 88.86% accuracy\n",
      "L2 Regularization constant of 0.007943 performed with 88.70% accuracy\n"
     ]
    }
   ],
   "source": [
    "print('Tunning the L2 Regularization constant')\n",
    "\n",
    "num_steps = 3001\n",
    "l2_constant_values = [pow(10, i) for i in np.arange(-4, -2, 0.1)]\n",
    "accuracy_values = []\n",
    "max_accuracy, best_l2_constant = 0, 0\n",
    "\n",
    "for l2_constant in l2_constant_values:\n",
    "    with tf.Session(graph=graph) as session:\n",
    "        tf.global_variables_initializer().run()\n",
    "        for step in range(num_steps):\n",
    "            # Pick an offset within the training data, which has been randomized.\n",
    "            # Note: we could use better randomization across epochs.\n",
    "            offset = (step * batch_size) % (train_labels.shape[0] - batch_size)\n",
    "            # Generate a minibatch.\n",
    "            batch_data = train_dataset[offset:(offset + batch_size), :]\n",
    "            batch_labels = train_labels[offset:(offset + batch_size), :]\n",
    "            # Prepare a dictionary telling the session where to feed the minibatch.\n",
    "            # The key of the dictionary is the placeholder node of the graph to be fed,\n",
    "            # and the value is the numpy array to feed to it.\n",
    "            feed_dict = {tf_train_dataset : batch_data, tf_train_labels : batch_labels, tf_l2_feature: l2_constant}\n",
    "            _, l, predictions = session.run(\n",
    "              [optimizer, loss, train_prediction], feed_dict=feed_dict)\n",
    "        test_accuracy = accuracy(test_prediction.eval(), test_labels)\n",
    "        if test_accuracy == max(max_accuracy, test_accuracy):\n",
    "            max_accuracy = test_accuracy\n",
    "            best_l2_constant = l2_constant\n",
    "        accuracy_values.append(test_accuracy)\n",
    "        print('L2 Regularization constant of %f performed with %.2f%% accuracy' % (l2_constant, accuracy_values[-1]))"
   ]
  },
  {
   "cell_type": "code",
   "execution_count": 7,
   "metadata": {},
   "outputs": [
    {
     "name": "stdout",
     "output_type": "stream",
     "text": [
      "Plot the L2 Regularization loss for our Test\n"
     ]
    },
    {
     "data": {
      "image/png": "[encoded data removed]",
      "text/plain": [
       "<matplotlib.figure.Figure at 0x1160b8b90>"
      ]
     },
     "metadata": {},
     "output_type": "display_data"
    },
    {
     "name": "stdout",
     "output_type": "stream",
     "text": [
      "Maximum accuracy is 89.12% with L2 Regularization constant of 0.002512\n"
     ]
    }
   ],
   "source": [
    "print('Plot the L2 Regularization loss for our Test')\n",
    "plt.semilogx(l2_constant_values, accuracy_values)\n",
    "plt.grid(True)\n",
    "plt.title('Accuracy against L2 regularization (Logistic Regression)')\n",
    "plt.show()\n",
    "print('Maximum accuracy is %.2f%% with L2 Regularization constant of %f' % (max_accuracy, best_l2_constant))"
   ]
  },
  {
   "cell_type": "code",
   "execution_count": 8,
   "metadata": {},
   "outputs": [
    {
     "name": "stdout",
     "output_type": "stream",
     "text": [
      "Using L2 Regularization for Neural Network Model (1 Hidden Layer)\n",
      "Tensorflow Graph created\n",
      "Initialized\n",
      "Minibatch loss at step 0: 682.607361\n",
      "Minibatch accuracy: 14.1%\n",
      "Validation accuracy: 22.7%\n",
      "Minibatch loss at step 500: 192.324173\n",
      "Minibatch accuracy: 85.9%\n",
      "Validation accuracy: 79.8%\n",
      "Minibatch loss at step 1000: 114.949615\n",
      "Minibatch accuracy: 80.5%\n",
      "Validation accuracy: 81.3%\n",
      "Minibatch loss at step 1500: 68.849945\n",
      "Minibatch accuracy: 87.5%\n",
      "Validation accuracy: 82.3%\n",
      "Minibatch loss at step 2000: 41.158295\n",
      "Minibatch accuracy: 90.6%\n",
      "Validation accuracy: 85.1%\n",
      "Minibatch loss at step 2500: 25.220377\n",
      "Minibatch accuracy: 88.3%\n",
      "Validation accuracy: 85.5%\n",
      "Minibatch loss at step 3000: 15.469946\n",
      "Minibatch accuracy: 84.4%\n",
      "Validation accuracy: 86.7%\n",
      "Test accuracy: 93.2%\n"
     ]
    }
   ],
   "source": [
    "print('Using L2 Regularization for Neural Network Model (1 Hidden Layer)')\n",
    "batch_size = 128\n",
    "num_hidden_nodes = 1024\n",
    "\n",
    "# Buildig the Network\n",
    "graph = tf.Graph()\n",
    "with graph.as_default():\n",
    "    # Input data. For the training data, we use a placeholder that will be fed\n",
    "    # at run time with a training minibatch.\n",
    "    tf_train_dataset = tf.placeholder(tf.float32,\n",
    "                                    shape=(batch_size, image_size * image_size))\n",
    "    tf_train_labels = tf.placeholder(tf.float32, shape=(batch_size, num_labels))\n",
    "    tf_valid_dataset = tf.constant(valid_dataset)\n",
    "    tf_test_dataset = tf.constant(test_dataset)\n",
    "    tf_l2_feature = tf.placeholder(tf.float32)\n",
    "\n",
    "    # Variables.\n",
    "    layer1_weights = tf.Variable(\n",
    "    tf.truncated_normal([image_size * image_size, num_hidden_nodes]))\n",
    "    layer1_biases = tf.Variable(tf.zeros([num_hidden_nodes]))\n",
    "    layer2_weights = tf.Variable(\n",
    "    tf.truncated_normal([num_hidden_nodes, num_labels]))\n",
    "    layer2_biases = tf.Variable(tf.zeros([num_labels]))    \n",
    "\n",
    "    # Training computation.\n",
    "    hidden_layer = tf.nn.relu(tf.matmul(tf_train_dataset, layer1_weights) + layer1_biases)\n",
    "    logits = tf.matmul(hidden_layer, layer2_weights) + layer2_biases\n",
    "    loss = tf.reduce_mean( \\\n",
    "    tf.nn.softmax_cross_entropy_with_logits(labels=tf_train_labels, logits=logits)) + \\\n",
    "    tf_l2_feature * (tf.nn.l2_loss(layer1_weights) + tf.nn.l2_loss(layer2_weights))\n",
    "\n",
    "    # Optimizer.\n",
    "    optimizer = tf.train.GradientDescentOptimizer(0.5).minimize(loss)\n",
    "\n",
    "    # Predictions for the training, validation, and test data.\n",
    "    train_prediction = tf.nn.softmax(logits)\n",
    "    hidden_layer_valid_prediction = tf.nn.relu(tf.matmul(tf_valid_dataset, layer1_weights) + layer1_biases)\n",
    "    valid_prediction = tf.nn.softmax(\n",
    "    tf.matmul(hidden_layer_valid_prediction, layer2_weights) + layer2_biases)\n",
    "    hidden_layer_test_prediction = tf.nn.relu(tf.matmul(tf_test_dataset, layer1_weights) + layer1_biases)\n",
    "    test_prediction = tf.nn.softmax(tf.matmul(hidden_layer_test_prediction, layer2_weights) + layer2_biases)\n",
    "\n",
    "print('Tensorflow Graph created')\n",
    "\n",
    "num_steps = 3001\n",
    "\n",
    "with tf.Session(graph=graph) as session:\n",
    "    tf.global_variables_initializer().run()\n",
    "    print(\"Initialized\")\n",
    "    for step in range(num_steps):\n",
    "        # Pick an offset within the training data, which has been randomized.\n",
    "        # Note: we could use better randomization across epochs.\n",
    "        offset = (step * batch_size) % (train_labels.shape[0] - batch_size)\n",
    "        # Generate a minibatch.\n",
    "        batch_data = train_dataset[offset:(offset + batch_size), :]\n",
    "        batch_labels = train_labels[offset:(offset + batch_size), :]\n",
    "        # Prepare a dictionary telling the session where to feed the minibatch.\n",
    "        # The key of the dictionary is the placeholder node of the graph to be fed,\n",
    "        # and the value is the numpy array to feed to it.\n",
    "        feed_dict = {tf_train_dataset : batch_data, tf_train_labels : batch_labels, tf_l2_feature: 1e-3}\n",
    "        _, l, predictions = session.run(\n",
    "          [optimizer, loss, train_prediction], feed_dict=feed_dict)\n",
    "        if (step % 500 == 0):\n",
    "            print(\"Minibatch loss at step %d: %f\" % (step, l))\n",
    "            print(\"Minibatch accuracy: %.1f%%\" % accuracy(predictions, batch_labels))\n",
    "            print(\"Validation accuracy: %.1f%%\" % accuracy(\n",
    "            valid_prediction.eval(), valid_labels))\n",
    "    print(\"Test accuracy: %.1f%%\" % accuracy(test_prediction.eval(), test_labels))"
   ]
  },
  {
   "cell_type": "markdown",
   "metadata": {},
   "source": [
    "Test accuracy of 93.2%"
   ]
  },
  {
   "cell_type": "code",
   "execution_count": 10,
   "metadata": {},
   "outputs": [
    {
     "name": "stdout",
     "output_type": "stream",
     "text": [
      "Tunning the L2 Regularization constant with 1 Hidden Layer\n",
      "Accuracy of 89.97% for L2 parameter constant of 0.000100\n",
      "Accuracy of 89.67% for L2 parameter constant of 0.000126\n",
      "Accuracy of 89.84% for L2 parameter constant of 0.000158\n",
      "Accuracy of 90.22% for L2 parameter constant of 0.000200\n",
      "Accuracy of 90.43% for L2 parameter constant of 0.000251\n",
      "Accuracy of 90.60% for L2 parameter constant of 0.000316\n",
      "Accuracy of 91.17% for L2 parameter constant of 0.000398\n",
      "Accuracy of 91.45% for L2 parameter constant of 0.000501\n",
      "Accuracy of 91.96% for L2 parameter constant of 0.000631\n",
      "Accuracy of 92.56% for L2 parameter constant of 0.000794\n",
      "Accuracy of 92.96% for L2 parameter constant of 0.001000\n",
      "Accuracy of 93.54% for L2 parameter constant of 0.001259\n",
      "Accuracy of 93.07% for L2 parameter constant of 0.001585\n",
      "Accuracy of 92.88% for L2 parameter constant of 0.001995\n",
      "Accuracy of 92.72% for L2 parameter constant of 0.002512\n",
      "Accuracy of 92.51% for L2 parameter constant of 0.003162\n",
      "Accuracy of 92.03% for L2 parameter constant of 0.003981\n",
      "Accuracy of 91.72% for L2 parameter constant of 0.005012\n",
      "Accuracy of 91.29% for L2 parameter constant of 0.006310\n",
      "Accuracy of 90.79% for L2 parameter constant of 0.007943\n"
     ]
    }
   ],
   "source": [
    "print('Tunning the L2 Regularization constant with 1 Hidden Layer')\n",
    "\n",
    "num_steps = 3001\n",
    "l2_constant_values = [pow(10, i) for i in np.arange(-4, -2, 0.1)]\n",
    "accuracy_values = []\n",
    "max_accuracy, best_l2_constant = 0, 0\n",
    "\n",
    "for l2_constant in l2_constant_values:\n",
    "    with tf.Session(graph=graph) as session:\n",
    "        tf.global_variables_initializer().run()\n",
    "        for step in range(num_steps):\n",
    "            # Pick an offset within the training data, which has been randomized.\n",
    "            # Note: we could use better randomization across epochs.\n",
    "            offset = (step * batch_size) % (train_labels.shape[0] - batch_size)\n",
    "            # Generate a minibatch.\n",
    "            batch_data = train_dataset[offset:(offset + batch_size), :]\n",
    "            batch_labels = train_labels[offset:(offset + batch_size), :]\n",
    "            # Prepare a dictionary telling the session where to feed the minibatch.\n",
    "            # The key of the dictionary is the placeholder node of the graph to be fed,\n",
    "            # and the value is the numpy array to feed to it.\n",
    "            feed_dict = {tf_train_dataset : batch_data, tf_train_labels : batch_labels, tf_l2_feature: l2_constant}\n",
    "            _, l, predictions = session.run(\n",
    "              [optimizer, loss, train_prediction], feed_dict=feed_dict)\n",
    "        test_accuracy = accuracy(test_prediction.eval(), test_labels)\n",
    "        if test_accuracy == max(max_accuracy, test_accuracy):\n",
    "            max_accuracy = test_accuracy\n",
    "            best_l2_constant = l2_constant\n",
    "        accuracy_values.append(test_accuracy)\n",
    "    print('Accuracy of %.2f%% for L2 parameter constant of %f' % (accuracy_values[-1], l2_constant))"
   ]
  },
  {
   "cell_type": "code",
   "execution_count": 11,
   "metadata": {},
   "outputs": [
    {
     "name": "stdout",
     "output_type": "stream",
     "text": [
      "Plot the L2 Regularization loss for our Test\n"
     ]
    },
    {
     "data": {
      "image/png": "[encoded data removed]",
      "text/plain": [
       "<matplotlib.figure.Figure at 0x13f36fd90>"
      ]
     },
     "metadata": {},
     "output_type": "display_data"
    },
    {
     "name": "stdout",
     "output_type": "stream",
     "text": [
      "Maximum accuracy is 93.54% with L2 Regularization constant of 0.001259\n"
     ]
    }
   ],
   "source": [
    "print('Plot the L2 Regularization loss for our Test')\n",
    "plt.semilogx(l2_constant_values, accuracy_values)\n",
    "plt.grid(True)\n",
    "plt.title('Accuracy against L2 regularization (1 Hidden Layer Neural Network)')\n",
    "plt.show()\n",
    "print('Maximum accuracy is %.2f%% with L2 Regularization constant of %f' % (max_accuracy, best_l2_constant))"
   ]
  },
  {
   "cell_type": "markdown",
   "metadata": {},
   "source": [
    "Maximum accuracy is 93.54% with L2 Regularization constant of 0.001259"
   ]
  },
  {
   "cell_type": "markdown",
   "metadata": {
    "colab_type": "text",
    "id": "na8xX2yHZzNF"
   },
   "source": [
    "---\n",
    "Problem 2\n",
    "---------\n",
    "Let's demonstrate an extreme case of overfitting. Restrict your training data to just a few batches. What happens?\n",
    "\n",
    "---"
   ]
  },
  {
   "cell_type": "code",
   "execution_count": 12,
   "metadata": {},
   "outputs": [
    {
     "name": "stdout",
     "output_type": "stream",
     "text": [
      "Using L2 Regularization for Neural Network Model (1 Hidden Layer) with overfitting\n",
      "Tensorflow Graph created\n",
      "Initialized\n",
      "Minibatch loss at step 0: 754.229736\n",
      "Minibatch accuracy: 10.2%\n",
      "Validation accuracy: 26.5%\n",
      "Minibatch loss at step 1: 1508.888672\n",
      "Minibatch accuracy: 29.7%\n",
      "Validation accuracy: 36.0%\n",
      "Minibatch loss at step 2: 1837.886230\n",
      "Minibatch accuracy: 39.1%\n",
      "Validation accuracy: 30.8%\n",
      "Minibatch loss at step 3: 2115.097168\n",
      "Minibatch accuracy: 21.1%\n",
      "Validation accuracy: 36.7%\n",
      "Minibatch loss at step 4: 978.996765\n",
      "Minibatch accuracy: 39.1%\n",
      "Validation accuracy: 49.0%\n",
      "Minibatch loss at step 5: 700.633179\n",
      "Minibatch accuracy: 49.2%\n",
      "Validation accuracy: 64.5%\n",
      "Minibatch loss at step 6: 638.046143\n",
      "Minibatch accuracy: 64.1%\n",
      "Validation accuracy: 63.9%\n",
      "Minibatch loss at step 7: 531.419067\n",
      "Minibatch accuracy: 64.8%\n",
      "Validation accuracy: 67.1%\n",
      "Minibatch loss at step 8: 533.669800\n",
      "Minibatch accuracy: 71.1%\n",
      "Validation accuracy: 71.6%\n",
      "Minibatch loss at step 9: 461.346252\n",
      "Minibatch accuracy: 72.7%\n",
      "Validation accuracy: 72.0%\n",
      "Minibatch loss at step 10: 533.086304\n",
      "Minibatch accuracy: 71.9%\n",
      "Validation accuracy: 73.8%\n",
      "Minibatch loss at step 11: 485.049500\n",
      "Minibatch accuracy: 73.4%\n",
      "Validation accuracy: 76.5%\n",
      "Minibatch loss at step 12: 420.791992\n",
      "Minibatch accuracy: 82.0%\n",
      "Validation accuracy: 76.5%\n",
      "Minibatch loss at step 13: 476.056152\n",
      "Minibatch accuracy: 82.0%\n",
      "Validation accuracy: 76.6%\n",
      "Minibatch loss at step 14: 468.641785\n",
      "Minibatch accuracy: 79.7%\n",
      "Validation accuracy: 75.0%\n",
      "Minibatch loss at step 15: 517.109924\n",
      "Minibatch accuracy: 71.1%\n",
      "Validation accuracy: 75.0%\n",
      "Minibatch loss at step 16: 479.748260\n",
      "Minibatch accuracy: 75.0%\n",
      "Validation accuracy: 74.0%\n",
      "Minibatch loss at step 17: 466.988678\n",
      "Minibatch accuracy: 77.3%\n",
      "Validation accuracy: 77.0%\n",
      "Minibatch loss at step 18: 500.824127\n",
      "Minibatch accuracy: 72.7%\n",
      "Validation accuracy: 76.8%\n",
      "Minibatch loss at step 19: 437.976746\n",
      "Minibatch accuracy: 77.3%\n",
      "Validation accuracy: 75.5%\n",
      "Minibatch loss at step 20: 467.512207\n",
      "Minibatch accuracy: 76.6%\n",
      "Validation accuracy: 71.3%\n",
      "Minibatch loss at step 21: 499.973694\n",
      "Minibatch accuracy: 72.7%\n",
      "Validation accuracy: 75.0%\n",
      "Minibatch loss at step 22: 435.268188\n",
      "Minibatch accuracy: 76.6%\n",
      "Validation accuracy: 75.3%\n",
      "Minibatch loss at step 23: 488.107117\n",
      "Minibatch accuracy: 71.9%\n",
      "Validation accuracy: 76.1%\n",
      "Minibatch loss at step 24: 438.421265\n",
      "Minibatch accuracy: 82.0%\n",
      "Validation accuracy: 76.7%\n",
      "Minibatch loss at step 25: 471.973267\n",
      "Minibatch accuracy: 71.9%\n",
      "Validation accuracy: 76.8%\n",
      "Minibatch loss at step 26: 432.357056\n",
      "Minibatch accuracy: 78.1%\n",
      "Validation accuracy: 77.5%\n",
      "Minibatch loss at step 27: 469.927521\n",
      "Minibatch accuracy: 74.2%\n",
      "Validation accuracy: 75.4%\n",
      "Minibatch loss at step 28: 445.162170\n",
      "Minibatch accuracy: 78.1%\n",
      "Validation accuracy: 77.1%\n",
      "Minibatch loss at step 29: 423.223267\n",
      "Minibatch accuracy: 76.6%\n",
      "Validation accuracy: 76.4%\n",
      "Minibatch loss at step 30: 430.057220\n",
      "Minibatch accuracy: 83.6%\n",
      "Validation accuracy: 76.6%\n",
      "Minibatch loss at step 31: 438.055450\n",
      "Minibatch accuracy: 78.1%\n",
      "Validation accuracy: 76.9%\n",
      "Minibatch loss at step 32: 461.571594\n",
      "Minibatch accuracy: 77.3%\n",
      "Validation accuracy: 75.2%\n",
      "Minibatch loss at step 33: 407.836853\n",
      "Minibatch accuracy: 79.7%\n",
      "Validation accuracy: 77.8%\n",
      "Minibatch loss at step 34: 452.976074\n",
      "Minibatch accuracy: 74.2%\n",
      "Validation accuracy: 77.1%\n",
      "Minibatch loss at step 35: 426.652771\n",
      "Minibatch accuracy: 75.0%\n",
      "Validation accuracy: 78.0%\n",
      "Minibatch loss at step 36: 448.505981\n",
      "Minibatch accuracy: 73.4%\n",
      "Validation accuracy: 76.0%\n",
      "Minibatch loss at step 37: 418.050323\n",
      "Minibatch accuracy: 78.9%\n",
      "Validation accuracy: 77.3%\n",
      "Minibatch loss at step 38: 434.117981\n",
      "Minibatch accuracy: 73.4%\n",
      "Validation accuracy: 77.7%\n",
      "Minibatch loss at step 39: 448.621796\n",
      "Minibatch accuracy: 72.7%\n",
      "Validation accuracy: 74.4%\n",
      "Minibatch loss at step 40: 501.879578\n",
      "Minibatch accuracy: 71.1%\n",
      "Validation accuracy: 68.8%\n",
      "Minibatch loss at step 41: 481.013000\n",
      "Minibatch accuracy: 64.8%\n",
      "Validation accuracy: 77.0%\n",
      "Minibatch loss at step 42: 425.481232\n",
      "Minibatch accuracy: 78.9%\n",
      "Validation accuracy: 75.8%\n",
      "Minibatch loss at step 43: 426.889069\n",
      "Minibatch accuracy: 82.8%\n",
      "Validation accuracy: 74.9%\n",
      "Minibatch loss at step 44: 446.643341\n",
      "Minibatch accuracy: 75.8%\n",
      "Validation accuracy: 75.6%\n",
      "Minibatch loss at step 45: 430.804596\n",
      "Minibatch accuracy: 71.9%\n",
      "Validation accuracy: 67.5%\n",
      "Minibatch loss at step 46: 481.612732\n",
      "Minibatch accuracy: 68.8%\n",
      "Validation accuracy: 74.2%\n",
      "Minibatch loss at step 47: 400.381531\n",
      "Minibatch accuracy: 77.3%\n",
      "Validation accuracy: 75.6%\n",
      "Minibatch loss at step 48: 442.948120\n",
      "Minibatch accuracy: 71.9%\n",
      "Validation accuracy: 77.4%\n",
      "Minibatch loss at step 49: 420.544952\n",
      "Minibatch accuracy: 75.0%\n",
      "Validation accuracy: 75.4%\n",
      "Minibatch loss at step 50: 416.388245\n",
      "Minibatch accuracy: 81.2%\n",
      "Validation accuracy: 77.9%\n",
      "Minibatch loss at step 51: 412.555328\n",
      "Minibatch accuracy: 78.1%\n",
      "Validation accuracy: 77.0%\n",
      "Minibatch loss at step 52: 402.746613\n",
      "Minibatch accuracy: 80.5%\n",
      "Validation accuracy: 76.3%\n",
      "Minibatch loss at step 53: 428.164734\n",
      "Minibatch accuracy: 76.6%\n",
      "Validation accuracy: 74.9%\n",
      "Minibatch loss at step 54: 449.090668\n",
      "Minibatch accuracy: 74.2%\n",
      "Validation accuracy: 73.1%\n",
      "Minibatch loss at step 55: 407.106506\n",
      "Minibatch accuracy: 72.7%\n",
      "Validation accuracy: 77.0%\n",
      "Minibatch loss at step 56: 411.727600\n",
      "Minibatch accuracy: 78.9%\n",
      "Validation accuracy: 77.0%\n",
      "Minibatch loss at step 57: 454.318298\n",
      "Minibatch accuracy: 69.5%\n",
      "Validation accuracy: 76.7%\n",
      "Minibatch loss at step 58: 431.398438\n",
      "Minibatch accuracy: 71.1%\n",
      "Validation accuracy: 75.5%\n",
      "Minibatch loss at step 59: 430.096619\n",
      "Minibatch accuracy: 69.5%\n",
      "Validation accuracy: 73.1%\n",
      "Minibatch loss at step 60: 434.155701\n",
      "Minibatch accuracy: 66.4%\n",
      "Validation accuracy: 75.9%\n",
      "Minibatch loss at step 61: 395.354248\n",
      "Minibatch accuracy: 82.0%\n",
      "Validation accuracy: 76.7%\n",
      "Minibatch loss at step 62: 403.777863\n",
      "Minibatch accuracy: 75.0%\n",
      "Validation accuracy: 77.5%\n",
      "Minibatch loss at step 63: 385.994293\n",
      "Minibatch accuracy: 78.9%\n",
      "Validation accuracy: 77.7%\n",
      "Minibatch loss at step 64: 394.309082\n",
      "Minibatch accuracy: 79.7%\n",
      "Validation accuracy: 78.6%\n",
      "Minibatch loss at step 65: 394.737152\n",
      "Minibatch accuracy: 78.9%\n",
      "Validation accuracy: 76.6%\n",
      "Minibatch loss at step 66: 396.643097\n",
      "Minibatch accuracy: 76.6%\n",
      "Validation accuracy: 78.2%\n",
      "Minibatch loss at step 67: 405.495941\n",
      "Minibatch accuracy: 74.2%\n",
      "Validation accuracy: 76.3%\n",
      "Minibatch loss at step 68: 393.960327\n",
      "Minibatch accuracy: 81.2%\n",
      "Validation accuracy: 77.4%\n",
      "Minibatch loss at step 69: 420.655273\n",
      "Minibatch accuracy: 74.2%\n",
      "Validation accuracy: 70.5%\n",
      "Minibatch loss at step 70: 460.866699\n",
      "Minibatch accuracy: 65.6%\n",
      "Validation accuracy: 69.5%\n",
      "Minibatch loss at step 71: 468.412811\n",
      "Minibatch accuracy: 67.2%\n",
      "Validation accuracy: 76.4%\n",
      "Minibatch loss at step 72: 412.127258\n",
      "Minibatch accuracy: 78.1%\n",
      "Validation accuracy: 76.1%\n",
      "Minibatch loss at step 73: 398.843384\n",
      "Minibatch accuracy: 76.6%\n",
      "Validation accuracy: 76.3%\n",
      "Minibatch loss at step 74: 402.036560\n",
      "Minibatch accuracy: 74.2%\n",
      "Validation accuracy: 77.3%\n",
      "Minibatch loss at step 75: 374.110474\n",
      "Minibatch accuracy: 85.9%\n",
      "Validation accuracy: 77.4%\n",
      "Minibatch loss at step 76: 404.937439\n",
      "Minibatch accuracy: 78.1%\n",
      "Validation accuracy: 77.5%\n",
      "Minibatch loss at step 77: 376.720734\n",
      "Minibatch accuracy: 76.6%\n",
      "Validation accuracy: 77.1%\n",
      "Minibatch loss at step 78: 391.903381\n",
      "Minibatch accuracy: 78.9%\n",
      "Validation accuracy: 76.5%\n",
      "Minibatch loss at step 79: 396.990723\n",
      "Minibatch accuracy: 74.2%\n",
      "Validation accuracy: 77.0%\n",
      "Minibatch loss at step 80: 413.754944\n",
      "Minibatch accuracy: 70.3%\n",
      "Validation accuracy: 77.5%\n",
      "Minibatch loss at step 81: 398.684937\n",
      "Minibatch accuracy: 75.0%\n",
      "Validation accuracy: 78.2%\n",
      "Minibatch loss at step 82: 398.807678\n",
      "Minibatch accuracy: 79.7%\n",
      "Validation accuracy: 76.2%\n",
      "Minibatch loss at step 83: 395.307953\n",
      "Minibatch accuracy: 75.8%\n",
      "Validation accuracy: 76.0%\n",
      "Minibatch loss at step 84: 401.668182\n",
      "Minibatch accuracy: 75.0%\n",
      "Validation accuracy: 78.2%\n",
      "Minibatch loss at step 85: 379.695862\n",
      "Minibatch accuracy: 78.9%\n",
      "Validation accuracy: 79.2%\n",
      "Minibatch loss at step 86: 381.060028\n",
      "Minibatch accuracy: 74.2%\n",
      "Validation accuracy: 77.6%\n",
      "Minibatch loss at step 87: 374.894440\n",
      "Minibatch accuracy: 73.4%\n",
      "Validation accuracy: 76.6%\n",
      "Minibatch loss at step 88: 383.921173\n",
      "Minibatch accuracy: 78.1%\n",
      "Validation accuracy: 76.8%\n",
      "Minibatch loss at step 89: 377.215729\n",
      "Minibatch accuracy: 78.9%\n"
     ]
    },
    {
     "name": "stdout",
     "output_type": "stream",
     "text": [
      "Validation accuracy: 77.9%\n",
      "Minibatch loss at step 90: 372.648254\n",
      "Minibatch accuracy: 82.0%\n",
      "Validation accuracy: 78.0%\n",
      "Minibatch loss at step 91: 366.089935\n",
      "Minibatch accuracy: 76.6%\n",
      "Validation accuracy: 76.8%\n",
      "Minibatch loss at step 92: 388.861481\n",
      "Minibatch accuracy: 71.9%\n",
      "Validation accuracy: 77.5%\n",
      "Minibatch loss at step 93: 384.285156\n",
      "Minibatch accuracy: 79.7%\n",
      "Validation accuracy: 77.7%\n",
      "Minibatch loss at step 94: 395.331268\n",
      "Minibatch accuracy: 70.3%\n",
      "Validation accuracy: 76.2%\n",
      "Minibatch loss at step 95: 378.150970\n",
      "Minibatch accuracy: 78.9%\n",
      "Validation accuracy: 76.9%\n",
      "Minibatch loss at step 96: 375.197662\n",
      "Minibatch accuracy: 74.2%\n",
      "Validation accuracy: 78.4%\n",
      "Minibatch loss at step 97: 373.646576\n",
      "Minibatch accuracy: 86.7%\n",
      "Validation accuracy: 76.5%\n",
      "Minibatch loss at step 98: 386.980347\n",
      "Minibatch accuracy: 77.3%\n",
      "Validation accuracy: 76.7%\n",
      "Minibatch loss at step 99: 382.623077\n",
      "Minibatch accuracy: 70.3%\n",
      "Validation accuracy: 78.7%\n",
      "Minibatch loss at step 100: 362.314606\n",
      "Minibatch accuracy: 77.3%\n",
      "Validation accuracy: 79.3%\n",
      "Test accuracy: 86.5%\n"
     ]
    }
   ],
   "source": [
    "print('Using L2 Regularization for Neural Network Model (1 Hidden Layer) with overfitting')\n",
    "batch_size = 128\n",
    "num_hidden_nodes = 1024\n",
    "\n",
    "# Buildig the Network\n",
    "graph = tf.Graph()\n",
    "with graph.as_default():\n",
    "    # Input data. For the training data, we use a placeholder that will be fed\n",
    "    # at run time with a training minibatch.\n",
    "    tf_train_dataset = tf.placeholder(tf.float32,\n",
    "                                    shape=(batch_size, image_size * image_size))\n",
    "    tf_train_labels = tf.placeholder(tf.float32, shape=(batch_size, num_labels))\n",
    "    tf_valid_dataset = tf.constant(valid_dataset)\n",
    "    tf_test_dataset = tf.constant(test_dataset)\n",
    "    tf_l2_feature = tf.placeholder(tf.float32)\n",
    "\n",
    "    # Variables.\n",
    "    layer1_weights = tf.Variable(\n",
    "    tf.truncated_normal([image_size * image_size, num_hidden_nodes]))\n",
    "    layer1_biases = tf.Variable(tf.zeros([num_hidden_nodes]))\n",
    "    layer2_weights = tf.Variable(\n",
    "    tf.truncated_normal([num_hidden_nodes, num_labels]))\n",
    "    layer2_biases = tf.Variable(tf.zeros([num_labels]))    \n",
    "\n",
    "    # Training computation.\n",
    "    hidden_layer = tf.nn.relu(tf.matmul(tf_train_dataset, layer1_weights) + layer1_biases)\n",
    "    logits = tf.matmul(hidden_layer, layer2_weights) + layer2_biases\n",
    "    loss = tf.reduce_mean( \\\n",
    "    tf.nn.softmax_cross_entropy_with_logits(labels=tf_train_labels, logits=logits)) + \\\n",
    "    tf_l2_feature * (tf.nn.l2_loss(layer1_weights) + tf.nn.l2_loss(layer2_weights))\n",
    "\n",
    "    # Optimizer.\n",
    "    optimizer = tf.train.GradientDescentOptimizer(0.5).minimize(loss)\n",
    "\n",
    "    # Predictions for the training, validation, and test data.\n",
    "    train_prediction = tf.nn.softmax(logits)\n",
    "    hidden_layer_valid_prediction = tf.nn.relu(tf.matmul(tf_valid_dataset, layer1_weights) + layer1_biases)\n",
    "    valid_prediction = tf.nn.softmax(\n",
    "    tf.matmul(hidden_layer_valid_prediction, layer2_weights) + layer2_biases)\n",
    "    hidden_layer_test_prediction = tf.nn.relu(tf.matmul(tf_test_dataset, layer1_weights) + layer1_biases)\n",
    "    test_prediction = tf.nn.softmax(tf.matmul(hidden_layer_test_prediction, layer2_weights) + layer2_biases)\n",
    "\n",
    "print('Tensorflow Graph created')\n",
    "\n",
    "num_steps = 101\n",
    "\n",
    "with tf.Session(graph=graph) as session:\n",
    "    tf.global_variables_initializer().run()\n",
    "    print(\"Initialized\")\n",
    "    for step in range(num_steps):\n",
    "        # Pick an offset within the training data, which has been randomized.\n",
    "        # Note: we could use better randomization across epochs.\n",
    "        offset = (step * batch_size) % (train_labels.shape[0] - batch_size)\n",
    "        # Generate a minibatch.\n",
    "        batch_data = train_dataset[offset:(offset + batch_size), :]\n",
    "        batch_labels = train_labels[offset:(offset + batch_size), :]\n",
    "        # Prepare a dictionary telling the session where to feed the minibatch.\n",
    "        # The key of the dictionary is the placeholder node of the graph to be fed,\n",
    "        # and the value is the numpy array to feed to it.\n",
    "        feed_dict = {tf_train_dataset : batch_data, tf_train_labels : batch_labels, tf_l2_feature: best_l2_constant}\n",
    "        _, l, predictions = session.run(\n",
    "          [optimizer, loss, train_prediction], feed_dict=feed_dict)        \n",
    "        print(\"Minibatch loss at step %d: %f\" % (step, l))\n",
    "        print(\"Minibatch accuracy: %.1f%%\" % accuracy(predictions, batch_labels))\n",
    "        print(\"Validation accuracy: %.1f%%\" % accuracy(\n",
    "        valid_prediction.eval(), valid_labels))\n",
    "    print(\"Test accuracy: %.1f%%\" % accuracy(test_prediction.eval(), test_labels))"
   ]
  },
  {
   "cell_type": "code",
   "execution_count": 13,
   "metadata": {},
   "outputs": [
    {
     "name": "stdout",
     "output_type": "stream",
     "text": [
      "Tunning the L2 Regularization constant\n",
      "Accuracy of 85.16% for L2 parameter constant of 0.000100\n",
      "Accuracy of 85.10% for L2 parameter constant of 0.000126\n",
      "Accuracy of 86.05% for L2 parameter constant of 0.000158\n",
      "Accuracy of 86.05% for L2 parameter constant of 0.000200\n",
      "Accuracy of 86.87% for L2 parameter constant of 0.000251\n",
      "Accuracy of 86.12% for L2 parameter constant of 0.000316\n",
      "Accuracy of 85.61% for L2 parameter constant of 0.000398\n",
      "Accuracy of 85.79% for L2 parameter constant of 0.000501\n",
      "Accuracy of 85.48% for L2 parameter constant of 0.000631\n",
      "Accuracy of 83.15% for L2 parameter constant of 0.000794\n",
      "Accuracy of 86.08% for L2 parameter constant of 0.001000\n",
      "Accuracy of 86.29% for L2 parameter constant of 0.001259\n",
      "Accuracy of 85.40% for L2 parameter constant of 0.001585\n",
      "Accuracy of 85.41% for L2 parameter constant of 0.001995\n",
      "Accuracy of 83.69% for L2 parameter constant of 0.002512\n",
      "Accuracy of 86.70% for L2 parameter constant of 0.003162\n",
      "Accuracy of 85.53% for L2 parameter constant of 0.003981\n",
      "Accuracy of 85.98% for L2 parameter constant of 0.005012\n",
      "Accuracy of 86.15% for L2 parameter constant of 0.006310\n",
      "Accuracy of 85.65% for L2 parameter constant of 0.007943\n"
     ]
    }
   ],
   "source": [
    "print('Tunning the L2 Regularization constant')\n",
    "\n",
    "num_steps = 101\n",
    "l2_constant_values = [pow(10, i) for i in np.arange(-4, -2, 0.1)]\n",
    "accuracy_values = []\n",
    "max_accuracy, best_l2_constant = 0, 0\n",
    "\n",
    "for l2_constant in l2_constant_values:\n",
    "    with tf.Session(graph=graph) as session:\n",
    "        tf.global_variables_initializer().run()\n",
    "        for step in range(num_steps):\n",
    "            # Pick an offset within the training data, which has been randomized.\n",
    "            # Note: we could use better randomization across epochs.\n",
    "            offset = (step * batch_size) % (train_labels.shape[0] - batch_size)\n",
    "            # Generate a minibatch.\n",
    "            batch_data = train_dataset[offset:(offset + batch_size), :]\n",
    "            batch_labels = train_labels[offset:(offset + batch_size), :]\n",
    "            # Prepare a dictionary telling the session where to feed the minibatch.\n",
    "            # The key of the dictionary is the placeholder node of the graph to be fed,\n",
    "            # and the value is the numpy array to feed to it.\n",
    "            feed_dict = {tf_train_dataset : batch_data, tf_train_labels : batch_labels, tf_l2_feature: l2_constant}\n",
    "            _, l, predictions = session.run(\n",
    "              [optimizer, loss, train_prediction], feed_dict=feed_dict)\n",
    "        test_accuracy = accuracy(test_prediction.eval(), test_labels)\n",
    "        if test_accuracy == max(max_accuracy, test_accuracy):\n",
    "            max_accuracy = test_accuracy\n",
    "            best_l2_constant = l2_constant\n",
    "        accuracy_values.append(test_accuracy)\n",
    "    print('Accuracy of %.2f%% for L2 parameter constant of %f' % (accuracy_values[-1], l2_constant))"
   ]
  },
  {
   "cell_type": "code",
   "execution_count": 14,
   "metadata": {},
   "outputs": [
    {
     "name": "stdout",
     "output_type": "stream",
     "text": [
      "Plot the L2 Regularization loss for our Test\n"
     ]
    },
    {
     "data": {
      "image/png": "[encoded data removed]",
      "text/plain": [
       "<matplotlib.figure.Figure at 0x119eeb590>"
      ]
     },
     "metadata": {},
     "output_type": "display_data"
    },
    {
     "name": "stdout",
     "output_type": "stream",
     "text": [
      "Maximum accuracy is 86.87% with L2 Regularization constant of 0.000251\n"
     ]
    }
   ],
   "source": [
    "print('Plot the L2 Regularization loss for our Test')\n",
    "plt.semilogx(l2_constant_values, accuracy_values)\n",
    "plt.grid(True)\n",
    "plt.title('Accuracy against L2 regularization (1 Hidden Layer Neural Network) with overfitting')\n",
    "plt.show()\n",
    "print('Maximum accuracy is %.2f%% with L2 Regularization constant of %f' % (max_accuracy, best_l2_constant))"
   ]
  },
  {
   "cell_type": "markdown",
   "metadata": {},
   "source": [
    "Maximum accuracy is 86.87% with L2 Regularization constant of 0.000251"
   ]
  },
  {
   "cell_type": "markdown",
   "metadata": {
    "colab_type": "text",
    "id": "ww3SCBUdlkRc"
   },
   "source": [
    "---\n",
    "Problem 3\n",
    "---------\n",
    "Introduce Dropout on the hidden layer of the neural network. Remember: Dropout should only be introduced during training, not evaluation, otherwise your evaluation results would be stochastic as well. TensorFlow provides `nn.dropout()` for that, but you have to make sure it's only inserted during training.\n",
    "\n",
    "What happens to our extreme overfitting case?\n",
    "\n",
    "---"
   ]
  },
  {
   "cell_type": "code",
   "execution_count": 15,
   "metadata": {},
   "outputs": [
    {
     "name": "stdout",
     "output_type": "stream",
     "text": [
      "Using L2 Regularization for Neural Network Model (1 Hidden Layer) with Dropout\n",
      "Tensorflow Graph created\n",
      "Initialized\n",
      "Minibatch loss at step 0: 789.001465\n",
      "Minibatch accuracy: 12.5%\n",
      "Validation accuracy: 29.3%\n",
      "Minibatch loss at step 500: 211.511215\n",
      "Minibatch accuracy: 67.2%\n",
      "Validation accuracy: 79.9%\n",
      "Minibatch loss at step 1000: 119.868019\n",
      "Minibatch accuracy: 73.4%\n",
      "Validation accuracy: 80.9%\n",
      "Minibatch loss at step 1500: 69.614540\n",
      "Minibatch accuracy: 81.2%\n",
      "Validation accuracy: 82.2%\n",
      "Minibatch loss at step 2000: 41.605450\n",
      "Minibatch accuracy: 84.4%\n",
      "Validation accuracy: 83.2%\n",
      "Minibatch loss at step 2500: 25.235479\n",
      "Minibatch accuracy: 80.5%\n",
      "Validation accuracy: 83.9%\n",
      "Minibatch loss at step 3000: 15.600616\n",
      "Minibatch accuracy: 85.9%\n",
      "Validation accuracy: 85.0%\n",
      "Test accuracy: 91.7%\n"
     ]
    }
   ],
   "source": [
    "print('Using L2 Regularization for Neural Network Model (1 Hidden Layer) with Dropout')\n",
    "batch_size = 128\n",
    "num_hidden_nodes = 1024\n",
    "dropout_rate = 0.5\n",
    "\n",
    "# Buildig the Network\n",
    "graph = tf.Graph()\n",
    "with graph.as_default():\n",
    "    # Input data. For the training data, we use a placeholder that will be fed\n",
    "    # at run time with a training minibatch.\n",
    "    tf_train_dataset = tf.placeholder(tf.float32,\n",
    "                                    shape=(batch_size, image_size * image_size))\n",
    "    tf_train_labels = tf.placeholder(tf.float32, shape=(batch_size, num_labels))\n",
    "    tf_valid_dataset = tf.constant(valid_dataset)\n",
    "    tf_test_dataset = tf.constant(test_dataset)\n",
    "    tf_l2_feature = tf.placeholder(tf.float32)\n",
    "\n",
    "    # Variables.\n",
    "    layer1_weights = tf.Variable(\n",
    "    tf.truncated_normal([image_size * image_size, num_hidden_nodes]))\n",
    "    layer1_biases = tf.Variable(tf.zeros([num_hidden_nodes]))\n",
    "    layer2_weights = tf.Variable(\n",
    "    tf.truncated_normal([num_hidden_nodes, num_labels]))\n",
    "    layer2_biases = tf.Variable(tf.zeros([num_labels]))    \n",
    "\n",
    "    # Training computation.\n",
    "    hidden_layer = tf.nn.relu(tf.matmul(tf_train_dataset, layer1_weights) + layer1_biases)\n",
    "    hidden_layer_with_dropout = tf.nn.dropout(hidden_layer, dropout_rate)\n",
    "    logits = tf.matmul(hidden_layer_with_dropout, layer2_weights) + layer2_biases\n",
    "    loss = tf.reduce_mean( \\\n",
    "    tf.nn.softmax_cross_entropy_with_logits(labels=tf_train_labels, logits=logits)) + \\\n",
    "    tf_l2_feature * (tf.nn.l2_loss(layer1_weights) + tf.nn.l2_loss(layer2_weights))\n",
    "\n",
    "    # Optimizer.\n",
    "    optimizer = tf.train.GradientDescentOptimizer(0.5).minimize(loss)\n",
    "\n",
    "    # Predictions for the training, validation, and test data.\n",
    "    train_prediction = tf.nn.softmax(logits)\n",
    "    hidden_layer_valid_prediction = tf.nn.relu(tf.matmul(tf_valid_dataset, layer1_weights) + layer1_biases)\n",
    "    valid_prediction = tf.nn.softmax(\n",
    "    tf.matmul(hidden_layer_valid_prediction, layer2_weights) + layer2_biases)\n",
    "    hidden_layer_test_prediction = tf.nn.relu(tf.matmul(tf_test_dataset, layer1_weights) + layer1_biases)\n",
    "    test_prediction = tf.nn.softmax(tf.matmul(hidden_layer_test_prediction, layer2_weights) + layer2_biases)\n",
    "\n",
    "print('Tensorflow Graph created')\n",
    "\n",
    "num_steps = 3001\n",
    "\n",
    "with tf.Session(graph=graph) as session:\n",
    "    tf.global_variables_initializer().run()\n",
    "    print(\"Initialized\")\n",
    "    for step in range(num_steps):\n",
    "        # Pick an offset within the training data, which has been randomized.\n",
    "        # Note: we could use better randomization across epochs.\n",
    "        offset = (step * batch_size) % (train_labels.shape[0] - batch_size)\n",
    "        # Generate a minibatch.\n",
    "        batch_data = train_dataset[offset:(offset + batch_size), :]\n",
    "        batch_labels = train_labels[offset:(offset + batch_size), :]\n",
    "        # Prepare a dictionary telling the session where to feed the minibatch.\n",
    "        # The key of the dictionary is the placeholder node of the graph to be fed,\n",
    "        # and the value is the numpy array to feed to it.\n",
    "        feed_dict = {tf_train_dataset : batch_data, tf_train_labels : batch_labels, tf_l2_feature: 1e-3}\n",
    "        _, l, predictions = session.run(\n",
    "          [optimizer, loss, train_prediction], feed_dict=feed_dict)\n",
    "        if (step % 500 == 0):\n",
    "            print(\"Minibatch loss at step %d: %f\" % (step, l))\n",
    "            print(\"Minibatch accuracy: %.1f%%\" % accuracy(predictions, batch_labels))\n",
    "            print(\"Validation accuracy: %.1f%%\" % accuracy(\n",
    "            valid_prediction.eval(), valid_labels))\n",
    "    print(\"Test accuracy: %.1f%%\" % accuracy(test_prediction.eval(), test_labels))"
   ]
  },
  {
   "cell_type": "code",
   "execution_count": 16,
   "metadata": {},
   "outputs": [
    {
     "name": "stdout",
     "output_type": "stream",
     "text": [
      "Tunning the L2 Regularization constant with Dropout\n",
      "Accuracy of 87.91% for L2 parameter constant of 0.000100\n",
      "Accuracy of 87.67% for L2 parameter constant of 0.000126\n",
      "Accuracy of 87.83% for L2 parameter constant of 0.000158\n",
      "Accuracy of 88.45% for L2 parameter constant of 0.000200\n",
      "Accuracy of 88.96% for L2 parameter constant of 0.000251\n",
      "Accuracy of 89.68% for L2 parameter constant of 0.000316\n",
      "Accuracy of 89.09% for L2 parameter constant of 0.000398\n",
      "Accuracy of 89.63% for L2 parameter constant of 0.000501\n",
      "Accuracy of 91.03% for L2 parameter constant of 0.000631\n",
      "Accuracy of 91.52% for L2 parameter constant of 0.000794\n",
      "Accuracy of 91.75% for L2 parameter constant of 0.001000\n",
      "Accuracy of 92.32% for L2 parameter constant of 0.001259\n",
      "Accuracy of 92.14% for L2 parameter constant of 0.001585\n",
      "Accuracy of 92.05% for L2 parameter constant of 0.001995\n",
      "Accuracy of 91.88% for L2 parameter constant of 0.002512\n",
      "Accuracy of 91.73% for L2 parameter constant of 0.003162\n",
      "Accuracy of 91.49% for L2 parameter constant of 0.003981\n",
      "Accuracy of 91.14% for L2 parameter constant of 0.005012\n",
      "Accuracy of 90.51% for L2 parameter constant of 0.006310\n",
      "Accuracy of 90.12% for L2 parameter constant of 0.007943\n"
     ]
    }
   ],
   "source": [
    "print('Tunning the L2 Regularization constant with Dropout')\n",
    "\n",
    "l2_constant_values = [pow(10, i) for i in np.arange(-4, -2, 0.1)]\n",
    "accuracy_values = []\n",
    "max_accuracy, best_l2_constant = 0, 0\n",
    "\n",
    "for l2_constant in l2_constant_values:\n",
    "    with tf.Session(graph=graph) as session:\n",
    "        tf.global_variables_initializer().run()\n",
    "        for step in range(num_steps):\n",
    "            # Pick an offset within the training data, which has been randomized.\n",
    "            # Note: we could use better randomization across epochs.\n",
    "            offset = (step * batch_size) % (train_labels.shape[0] - batch_size)\n",
    "            # Generate a minibatch.\n",
    "            batch_data = train_dataset[offset:(offset + batch_size), :]\n",
    "            batch_labels = train_labels[offset:(offset + batch_size), :]\n",
    "            # Prepare a dictionary telling the session where to feed the minibatch.\n",
    "            # The key of the dictionary is the placeholder node of the graph to be fed,\n",
    "            # and the value is the numpy array to feed to it.\n",
    "            feed_dict = {tf_train_dataset : batch_data, tf_train_labels : batch_labels, tf_l2_feature: l2_constant}\n",
    "            _, l, predictions = session.run(\n",
    "              [optimizer, loss, train_prediction], feed_dict=feed_dict)\n",
    "        test_accuracy = accuracy(test_prediction.eval(), test_labels)\n",
    "        if test_accuracy == max(max_accuracy, test_accuracy):\n",
    "            max_accuracy = test_accuracy\n",
    "            best_l2_constant = l2_constant\n",
    "        accuracy_values.append(test_accuracy)\n",
    "    print('Accuracy of %.2f%% for L2 parameter constant of %f' % (accuracy_values[-1], l2_constant))"
   ]
  },
  {
   "cell_type": "code",
   "execution_count": 17,
   "metadata": {},
   "outputs": [
    {
     "name": "stdout",
     "output_type": "stream",
     "text": [
      "Plot the L2 Regularization loss for our Test\n"
     ]
    },
    {
     "data": {
      "image/png": "[encoded data removed]",
      "text/plain": [
       "<matplotlib.figure.Figure at 0x119eb5990>"
      ]
     },
     "metadata": {},
     "output_type": "display_data"
    },
    {
     "name": "stdout",
     "output_type": "stream",
     "text": [
      "Maximum accuracy is 92.32% with L2 Regularization constant of 0.001259\n"
     ]
    }
   ],
   "source": [
    "print('Plot the L2 Regularization loss for our Test')\n",
    "plt.semilogx(l2_constant_values, accuracy_values)\n",
    "plt.grid(True)\n",
    "plt.title('Accuracy against L2 regularization (1 Hidden Layer Neural Network) with Dropout')\n",
    "plt.show()\n",
    "print('Maximum accuracy is %.2f%% with L2 Regularization constant of %f' % (max_accuracy, best_l2_constant))"
   ]
  },
  {
   "cell_type": "markdown",
   "metadata": {},
   "source": [
    "Maximum accuracy is 92.32% with L2 Regularization constant of 0.001259"
   ]
  },
  {
   "cell_type": "markdown",
   "metadata": {
    "colab_type": "text",
    "id": "-b1hTz3VWZjw"
   },
   "source": [
    "---\n",
    "Problem 4\n",
    "---------\n",
    "\n",
    "Try to get the best performance you can using a multi-layer model! The best reported test accuracy using a deep network is [97.1%](http://yaroslavvb.blogspot.com/2011/09/notmnist-dataset.html?showComment=1391023266211#c8758720086795711595).\n",
    "\n",
    "One avenue you can explore is to add multiple layers.\n",
    "\n",
    "Another one is to use learning rate decay:\n",
    "\n",
    "    global_step = tf.Variable(0)  # count the number of steps taken.\n",
    "    learning_rate = tf.train.exponential_decay(0.5, global_step, ...)\n",
    "    optimizer = tf.train.GradientDescentOptimizer(learning_rate).minimize(loss, global_step=global_step)\n",
    " \n",
    " ---\n"
   ]
  },
  {
   "cell_type": "code",
   "execution_count": 18,
   "metadata": {},
   "outputs": [
    {
     "name": "stdout",
     "output_type": "stream",
     "text": [
      "Using L2 Regularization for Neural Network Model (2 Hidden Layer Network)\n",
      "Tensorflow Graph created\n",
      "Initialized\n",
      "Minibatch loss at step 0: 5.211037\n",
      "Minibatch accuracy: 6.2%\n",
      "Validation accuracy: 21.3%\n",
      "Minibatch loss at step 500: 3.017697\n",
      "Minibatch accuracy: 87.5%\n",
      "Validation accuracy: 84.4%\n",
      "Minibatch loss at step 1000: 2.134465\n",
      "Minibatch accuracy: 86.7%\n",
      "Validation accuracy: 85.3%\n",
      "Minibatch loss at step 1500: 1.306852\n",
      "Minibatch accuracy: 90.6%\n",
      "Validation accuracy: 86.6%\n",
      "Minibatch loss at step 2000: 0.951897\n",
      "Minibatch accuracy: 93.8%\n",
      "Validation accuracy: 87.2%\n",
      "Minibatch loss at step 2500: 0.801123\n",
      "Minibatch accuracy: 88.3%\n",
      "Validation accuracy: 87.5%\n",
      "Minibatch loss at step 3000: 0.711055\n",
      "Minibatch accuracy: 85.9%\n",
      "Validation accuracy: 87.7%\n",
      "Test accuracy: 93.8%\n"
     ]
    }
   ],
   "source": [
    "print('Using L2 Regularization for Neural Network Model (2 Hidden Layer Network)')\n",
    "batch_size = 128\n",
    "num_first_hidden_nodes = 1024\n",
    "num_last_hidden_nodes = 200\n",
    "dropout_rate = 0.5\n",
    "\n",
    "# Building the Network\n",
    "graph = tf.Graph()\n",
    "with graph.as_default():\n",
    "    # Input data. For the training data, we use a placeholder that will be fed\n",
    "    # at run time with a training minibatch.\n",
    "    tf_train_dataset = tf.placeholder(tf.float32,\n",
    "        shape=(batch_size, image_size * image_size))\n",
    "    tf_train_labels = tf.placeholder(tf.float32, shape=(batch_size, num_labels))\n",
    "    tf_valid_dataset = tf.constant(valid_dataset)\n",
    "    tf_test_dataset = tf.constant(test_dataset)\n",
    "    tf_l2_feature = tf.placeholder(tf.float32)\n",
    "    # Global step for learning rate\n",
    "    global_step = tf.Variable(0)\n",
    "\n",
    "    # Variables.\n",
    "    layer1_weights = tf.Variable( \\\n",
    "        tf.truncated_normal([image_size * image_size, num_first_hidden_nodes],\n",
    "        stddev=np.sqrt(2.0 / (image_size * image_size))))\n",
    "    layer1_biases = tf.Variable(tf.zeros([num_first_hidden_nodes]))\n",
    "    layer2_weights = tf.Variable( \\\n",
    "        tf.truncated_normal([num_first_hidden_nodes, num_last_hidden_nodes], \n",
    "        stddev=np.sqrt(2.0 / num_first_hidden_nodes)))\n",
    "    layer2_biases = tf.Variable(tf.zeros([num_last_hidden_nodes])) \n",
    "    last_layer_weights = tf.Variable( \\\n",
    "        tf.truncated_normal([num_last_hidden_nodes, num_labels], \n",
    "        stddev=np.sqrt(2.0 / num_labels)))\n",
    "    last_layer_biases = tf.Variable(tf.zeros([num_labels]))\n",
    "\n",
    "    # Training computation.\n",
    "    first_hidden_layer = tf.nn.relu(tf.matmul(tf_train_dataset, layer1_weights) + layer1_biases)\n",
    "    last_hidden_layer = tf.nn.relu(tf.matmul(first_hidden_layer, layer2_weights) + layer2_biases)\n",
    "    logits = tf.matmul(last_hidden_layer, last_layer_weights) + last_layer_biases\n",
    "    \n",
    "    loss = tf.reduce_mean( \\\n",
    "        tf.nn.softmax_cross_entropy_with_logits(labels=tf_train_labels, logits=logits)) + \\\n",
    "        tf_l2_feature * (tf.nn.l2_loss(layer1_weights) + tf.nn.l2_loss(layer2_weights) +  \\\n",
    "        tf.nn.l2_loss(last_layer_weights))\n",
    "\n",
    "    # Learning Rate\n",
    "    learning_rate = tf.train.exponential_decay(0.5, global_step, 1000, 0.65, staircase=True)\n",
    "    # Optimizer.\n",
    "    optimizer = tf.train.GradientDescentOptimizer(learning_rate).minimize(loss)\n",
    "\n",
    "    # Predictions for the training, validation, and test data.\n",
    "    train_prediction = tf.nn.softmax(logits)\n",
    "    \n",
    "    first_hidden_layer_valid_prediction = tf.nn.relu(tf.matmul(tf_valid_dataset, layer1_weights) + layer1_biases)\n",
    "    last_hidden_layer_valid_prediction = tf.nn.relu( \\\n",
    "        tf.matmul(first_hidden_layer_valid_prediction, layer2_weights) + layer2_biases)\n",
    "    valid_prediction = tf.nn.softmax( \\\n",
    "        tf.matmul(last_hidden_layer_valid_prediction, last_layer_weights) + last_layer_biases)\n",
    "    \n",
    "    first_hidden_layer_test_prediction = tf.nn.relu(tf.matmul(tf_test_dataset, layer1_weights) + layer1_biases)\n",
    "    last_hidden_layer_test_prediction = tf.nn.relu( \\\n",
    "        tf.matmul(first_hidden_layer_test_prediction, layer2_weights) + layer2_biases)\n",
    "    test_prediction = tf.nn.softmax( \\\n",
    "        tf.matmul(last_hidden_layer_test_prediction, last_layer_weights) + last_layer_biases)\n",
    "\n",
    "    \n",
    "print('Tensorflow Graph created')\n",
    "\n",
    "num_steps = 3001\n",
    "\n",
    "with tf.Session(graph=graph) as session:\n",
    "    tf.global_variables_initializer().run()\n",
    "    print(\"Initialized\")\n",
    "    for step in range(num_steps):\n",
    "        # Pick an offset within the training data, which has been randomized.\n",
    "        # Note: we could use better randomization across epochs.\n",
    "        offset = (step * batch_size) % (train_labels.shape[0] - batch_size)\n",
    "        # Generate a minibatch.\n",
    "        batch_data = train_dataset[offset:(offset + batch_size), :]\n",
    "        batch_labels = train_labels[offset:(offset + batch_size), :]\n",
    "        # Prepare a dictionary telling the session where to feed the minibatch.\n",
    "        # The key of the dictionary is the placeholder node of the graph to be fed,\n",
    "        # and the value is the numpy array to feed to it.\n",
    "        feed_dict = {tf_train_dataset : batch_data, tf_train_labels : batch_labels, tf_l2_feature: 1e-3}\n",
    "        _, l, predictions = session.run(\n",
    "          [optimizer, loss, train_prediction], feed_dict=feed_dict)\n",
    "        if (step % 500 == 0):\n",
    "            print(\"Minibatch loss at step %d: %f\" % (step, l))\n",
    "            print(\"Minibatch accuracy: %.1f%%\" % accuracy(predictions, batch_labels))\n",
    "            print(\"Validation accuracy: %.1f%%\" % accuracy(\n",
    "            valid_prediction.eval(), valid_labels))\n",
    "    print(\"Test accuracy: %.1f%%\" % accuracy(test_prediction.eval(), test_labels))"
   ]
  },
  {
   "cell_type": "code",
   "execution_count": 19,
   "metadata": {},
   "outputs": [
    {
     "name": "stdout",
     "output_type": "stream",
     "text": [
      "Tunning the L2 Regularization constant\n",
      "Accuracy of 93.93% for L2 parameter constant of 0.000100\n",
      "Accuracy of 94.29% for L2 parameter constant of 0.000126\n",
      "Accuracy of 93.36% for L2 parameter constant of 0.000158\n",
      "Accuracy of 94.57% for L2 parameter constant of 0.000200\n",
      "Accuracy of 10.00% for L2 parameter constant of 0.000251\n",
      "Accuracy of 93.95% for L2 parameter constant of 0.000316\n",
      "Accuracy of 94.08% for L2 parameter constant of 0.000398\n",
      "Accuracy of 94.36% for L2 parameter constant of 0.000501\n",
      "Accuracy of 94.42% for L2 parameter constant of 0.000631\n",
      "Accuracy of 93.75% for L2 parameter constant of 0.000794\n",
      "Accuracy of 93.87% for L2 parameter constant of 0.001000\n",
      "Accuracy of 93.66% for L2 parameter constant of 0.001259\n",
      "Accuracy of 93.79% for L2 parameter constant of 0.001585\n",
      "Accuracy of 93.42% for L2 parameter constant of 0.001995\n",
      "Accuracy of 92.78% for L2 parameter constant of 0.002512\n",
      "Accuracy of 92.53% for L2 parameter constant of 0.003162\n",
      "Accuracy of 92.47% for L2 parameter constant of 0.003981\n",
      "Accuracy of 91.91% for L2 parameter constant of 0.005012\n",
      "Accuracy of 91.56% for L2 parameter constant of 0.006310\n",
      "Accuracy of 91.19% for L2 parameter constant of 0.007943\n"
     ]
    }
   ],
   "source": [
    "print('Tunning the L2 Regularization constant')\n",
    "\n",
    "l2_constant_values = [pow(10, i) for i in np.arange(-4, -2, 0.1)]\n",
    "accuracy_values = []\n",
    "max_accuracy, best_l2_constant = 0, 0\n",
    "\n",
    "for l2_constant in l2_constant_values:\n",
    "    with tf.Session(graph=graph) as session:\n",
    "        tf.global_variables_initializer().run()\n",
    "        for step in range(num_steps):\n",
    "            # Pick an offset within the training data, which has been randomized.\n",
    "            # Note: we could use better randomization across epochs.\n",
    "            offset = (step * batch_size) % (train_labels.shape[0] - batch_size)\n",
    "            # Generate a minibatch.\n",
    "            batch_data = train_dataset[offset:(offset + batch_size), :]\n",
    "            batch_labels = train_labels[offset:(offset + batch_size), :]\n",
    "            # Prepare a dictionary telling the session where to feed the minibatch.\n",
    "            # The key of the dictionary is the placeholder node of the graph to be fed,\n",
    "            # and the value is the numpy array to feed to it.\n",
    "            feed_dict = {tf_train_dataset : batch_data, tf_train_labels : batch_labels, tf_l2_feature: l2_constant}\n",
    "            _, l, predictions = session.run(\n",
    "              [optimizer, loss, train_prediction], feed_dict=feed_dict)\n",
    "        test_accuracy = accuracy(test_prediction.eval(), test_labels)\n",
    "        if test_accuracy == max(max_accuracy, test_accuracy):\n",
    "            max_accuracy = test_accuracy\n",
    "            best_l2_constant = l2_constant\n",
    "        accuracy_values.append(test_accuracy)\n",
    "    print('Accuracy of %.2f%% for L2 parameter constant of %f' % (accuracy_values[-1], l2_constant))"
   ]
  },
  {
   "cell_type": "code",
   "execution_count": 20,
   "metadata": {},
   "outputs": [
    {
     "name": "stdout",
     "output_type": "stream",
     "text": [
      "Plot the L2 Regularization loss for our Test\n"
     ]
    },
    {
     "data": {
      "image/png": "[encoded data removed]",
      "text/plain": [
       "<matplotlib.figure.Figure at 0x13f332fd0>"
      ]
     },
     "metadata": {},
     "output_type": "display_data"
    },
    {
     "name": "stdout",
     "output_type": "stream",
     "text": [
      "Maximum accuracy is 94.57% with L2 Regularization constant of 0.000200\n"
     ]
    }
   ],
   "source": [
    "print('Plot the L2 Regularization loss for our Test')\n",
    "plt.semilogx(l2_constant_values, accuracy_values)\n",
    "plt.grid(True)\n",
    "plt.title('Accuracy against L2 regularization (Multi Layer Neural Network)')\n",
    "plt.show()\n",
    "print('Maximum accuracy is %.2f%% with L2 Regularization constant of %f' % (max_accuracy, best_l2_constant))"
   ]
  },
  {
   "cell_type": "markdown",
   "metadata": {},
   "source": [
    "With the Network configuration of 2 Hidden Layers with 1024, 200 nodes we got an accuracy of 94.67% using a L2 Regularization value of 0.000126.\n",
    "\n",
    "---"
   ]
  },
  {
   "cell_type": "code",
   "execution_count": 23,
   "metadata": {},
   "outputs": [
    {
     "name": "stdout",
     "output_type": "stream",
     "text": [
      "Using L2 Regularization for Neural Network Model (2 Hidden Layer Network) with dropout\n",
      "Tensorflow Graph created\n",
      "Initialized\n",
      "Minibatch loss at step 0: 7.348735\n",
      "Minibatch accuracy: 9.4%\n",
      "Validation accuracy: 16.7%\n",
      "Minibatch loss at step 500: 1.354755\n",
      "Minibatch accuracy: 86.7%\n",
      "Validation accuracy: 83.3%\n",
      "Minibatch loss at step 1000: 1.170403\n",
      "Minibatch accuracy: 82.8%\n",
      "Validation accuracy: 84.1%\n",
      "Minibatch loss at step 1500: 0.774530\n",
      "Minibatch accuracy: 87.5%\n",
      "Validation accuracy: 85.2%\n",
      "Minibatch loss at step 2000: 0.667229\n",
      "Minibatch accuracy: 89.8%\n",
      "Validation accuracy: 86.0%\n",
      "Minibatch loss at step 2500: 0.696926\n",
      "Minibatch accuracy: 84.4%\n",
      "Validation accuracy: 85.9%\n",
      "Minibatch loss at step 3000: 0.691539\n",
      "Minibatch accuracy: 84.4%\n",
      "Validation accuracy: 86.2%\n",
      "Test accuracy: 93.0%\n"
     ]
    }
   ],
   "source": [
    "print('Using L2 Regularization for Neural Network Model (2 Hidden Layer Network) with dropout')\n",
    "batch_size = 128\n",
    "num_first_hidden_nodes = 1024\n",
    "num_last_hidden_nodes = 200\n",
    "dropout_rate = 0.5\n",
    "\n",
    "# Building the Network\n",
    "graph = tf.Graph()\n",
    "with graph.as_default():\n",
    "    # Input data. For the training data, we use a placeholder that will be fed\n",
    "    # at run time with a training minibatch.\n",
    "    tf_train_dataset = tf.placeholder(tf.float32,\n",
    "        shape=(batch_size, image_size * image_size))\n",
    "    tf_train_labels = tf.placeholder(tf.float32, shape=(batch_size, num_labels))\n",
    "    tf_valid_dataset = tf.constant(valid_dataset)\n",
    "    tf_test_dataset = tf.constant(test_dataset)\n",
    "    tf_l2_feature = tf.placeholder(tf.float32)\n",
    "    # Global step for learning rate\n",
    "    global_step = tf.Variable(0)\n",
    "\n",
    "    # Variables.\n",
    "    layer1_weights = tf.Variable( \\\n",
    "        tf.truncated_normal([image_size * image_size, num_first_hidden_nodes],\n",
    "        stddev=np.sqrt(2.0 / (image_size * image_size))))\n",
    "    layer1_biases = tf.Variable(tf.zeros([num_first_hidden_nodes]))\n",
    "    layer2_weights = tf.Variable( \\\n",
    "        tf.truncated_normal([num_first_hidden_nodes, num_last_hidden_nodes], \n",
    "        stddev=np.sqrt(2.0 / num_first_hidden_nodes)))\n",
    "    layer2_biases = tf.Variable(tf.zeros([num_last_hidden_nodes])) \n",
    "    last_layer_weights = tf.Variable( \\\n",
    "        tf.truncated_normal([num_last_hidden_nodes, num_labels], \n",
    "        stddev=np.sqrt(2.0 / num_labels)))\n",
    "    last_layer_biases = tf.Variable(tf.zeros([num_labels]))\n",
    "\n",
    "    # Training computation.\n",
    "    first_hidden_layer = tf.nn.relu(tf.matmul(tf_train_dataset, layer1_weights) + layer1_biases)\n",
    "    first_hidden_layer_with_dropout = tf.nn.dropout(first_hidden_layer, dropout_rate)    \n",
    "    last_hidden_layer = tf.nn.relu(tf.matmul(first_hidden_layer_with_dropout, layer2_weights) + layer2_biases)    \n",
    "    last_hidden_layer_with_dropout = tf.nn.dropout(last_hidden_layer, dropout_rate)\n",
    "    logits = tf.matmul(last_hidden_layer_with_dropout, last_layer_weights) + last_layer_biases\n",
    "    \n",
    "    loss = tf.reduce_mean( \\\n",
    "        tf.nn.softmax_cross_entropy_with_logits(labels=tf_train_labels, logits=logits)) + \\\n",
    "        tf_l2_feature * (tf.nn.l2_loss(layer1_weights) + tf.nn.l2_loss(layer2_weights) +  \\\n",
    "        tf.nn.l2_loss(last_layer_weights))\n",
    "\n",
    "    # Learning Rate\n",
    "    learning_rate = tf.train.exponential_decay(0.5, global_step, 1000, 0.65, staircase=True)\n",
    "    # Optimizer.\n",
    "    optimizer = tf.train.GradientDescentOptimizer(learning_rate).minimize(loss)\n",
    "\n",
    "    # Predictions for the training, validation, and test data.\n",
    "    train_prediction = tf.nn.softmax(logits)\n",
    "    \n",
    "    first_hidden_layer_valid_prediction = tf.nn.relu(tf.matmul(tf_valid_dataset, layer1_weights) + layer1_biases)\n",
    "    last_hidden_layer_valid_prediction = tf.nn.relu( \\\n",
    "        tf.matmul(first_hidden_layer_valid_prediction, layer2_weights) + layer2_biases)\n",
    "    valid_prediction = tf.nn.softmax( \\\n",
    "        tf.matmul(last_hidden_layer_valid_prediction, last_layer_weights) + last_layer_biases)\n",
    "    \n",
    "    first_hidden_layer_test_prediction = tf.nn.relu(tf.matmul(tf_test_dataset, layer1_weights) + layer1_biases)\n",
    "    last_hidden_layer_test_prediction = tf.nn.relu( \\\n",
    "        tf.matmul(first_hidden_layer_test_prediction, layer2_weights) + layer2_biases)\n",
    "    test_prediction = tf.nn.softmax( \\\n",
    "        tf.matmul(last_hidden_layer_test_prediction, last_layer_weights) + last_layer_biases)\n",
    "\n",
    "    \n",
    "print('Tensorflow Graph created')\n",
    "\n",
    "num_steps = 3001\n",
    "\n",
    "with tf.Session(graph=graph) as session:\n",
    "    tf.global_variables_initializer().run()\n",
    "    print(\"Initialized\")\n",
    "    for step in range(num_steps):\n",
    "        # Pick an offset within the training data, which has been randomized.\n",
    "        # Note: we could use better randomization across epochs.\n",
    "        offset = (step * batch_size) % (train_labels.shape[0] - batch_size)\n",
    "        # Generate a minibatch.\n",
    "        batch_data = train_dataset[offset:(offset + batch_size), :]\n",
    "        batch_labels = train_labels[offset:(offset + batch_size), :]\n",
    "        # Prepare a dictionary telling the session where to feed the minibatch.\n",
    "        # The key of the dictionary is the placeholder node of the graph to be fed,\n",
    "        # and the value is the numpy array to feed to it.\n",
    "        feed_dict = {tf_train_dataset : batch_data, tf_train_labels : batch_labels, tf_l2_feature: 1e-3}\n",
    "        _, l, predictions = session.run(\n",
    "          [optimizer, loss, train_prediction], feed_dict=feed_dict)\n",
    "        if (step % 500 == 0):\n",
    "            print(\"Minibatch loss at step %d: %f\" % (step, l))\n",
    "            print(\"Minibatch accuracy: %.1f%%\" % accuracy(predictions, batch_labels))\n",
    "            print(\"Validation accuracy: %.1f%%\" % accuracy(\n",
    "            valid_prediction.eval(), valid_labels))\n",
    "    print(\"Test accuracy: %.1f%%\" % accuracy(test_prediction.eval(), test_labels))"
   ]
  },
  {
   "cell_type": "code",
   "execution_count": 24,
   "metadata": {},
   "outputs": [
    {
     "name": "stdout",
     "output_type": "stream",
     "text": [
      "Tunning the L2 Regularization constant\n",
      "Accuracy of 92.29% for L2 parameter constant of 0.000100\n",
      "Accuracy of 92.35% for L2 parameter constant of 0.000126\n",
      "Accuracy of 92.34% for L2 parameter constant of 0.000158\n",
      "Accuracy of 92.68% for L2 parameter constant of 0.000200\n",
      "Accuracy of 92.89% for L2 parameter constant of 0.000251\n",
      "Accuracy of 92.94% for L2 parameter constant of 0.000316\n",
      "Accuracy of 92.91% for L2 parameter constant of 0.000398\n",
      "Accuracy of 92.69% for L2 parameter constant of 0.000501\n",
      "Accuracy of 92.73% for L2 parameter constant of 0.000631\n",
      "Accuracy of 92.81% for L2 parameter constant of 0.000794\n",
      "Accuracy of 92.61% for L2 parameter constant of 0.001000\n",
      "Accuracy of 92.46% for L2 parameter constant of 0.001259\n",
      "Accuracy of 92.26% for L2 parameter constant of 0.001585\n",
      "Accuracy of 91.84% for L2 parameter constant of 0.001995\n",
      "Accuracy of 91.83% for L2 parameter constant of 0.002512\n",
      "Accuracy of 91.74% for L2 parameter constant of 0.003162\n",
      "Accuracy of 91.44% for L2 parameter constant of 0.003981\n",
      "Accuracy of 91.24% for L2 parameter constant of 0.005012\n",
      "Accuracy of 90.59% for L2 parameter constant of 0.006310\n",
      "Accuracy of 90.25% for L2 parameter constant of 0.007943\n"
     ]
    }
   ],
   "source": [
    "print('Tunning the L2 Regularization constant')\n",
    "\n",
    "l2_constant_values = [pow(10, i) for i in np.arange(-4, -2, 0.1)]\n",
    "accuracy_values = []\n",
    "max_accuracy, best_l2_constant = 0, 0\n",
    "\n",
    "for l2_constant in l2_constant_values:\n",
    "    with tf.Session(graph=graph) as session:\n",
    "        tf.global_variables_initializer().run()\n",
    "        for step in range(num_steps):\n",
    "            # Pick an offset within the training data, which has been randomized.\n",
    "            # Note: we could use better randomization across epochs.\n",
    "            offset = (step * batch_size) % (train_labels.shape[0] - batch_size)\n",
    "            # Generate a minibatch.\n",
    "            batch_data = train_dataset[offset:(offset + batch_size), :]\n",
    "            batch_labels = train_labels[offset:(offset + batch_size), :]\n",
    "            # Prepare a dictionary telling the session where to feed the minibatch.\n",
    "            # The key of the dictionary is the placeholder node of the graph to be fed,\n",
    "            # and the value is the numpy array to feed to it.\n",
    "            feed_dict = {tf_train_dataset : batch_data, tf_train_labels : batch_labels, tf_l2_feature: l2_constant}\n",
    "            _, l, predictions = session.run(\n",
    "              [optimizer, loss, train_prediction], feed_dict=feed_dict)\n",
    "        test_accuracy = accuracy(test_prediction.eval(), test_labels)\n",
    "        if test_accuracy == max(max_accuracy, test_accuracy):\n",
    "            max_accuracy = test_accuracy\n",
    "            best_l2_constant = l2_constant\n",
    "        accuracy_values.append(test_accuracy)\n",
    "    print('Accuracy of %.2f%% for L2 parameter constant of %f' % (accuracy_values[-1], l2_constant))"
   ]
  },
  {
   "cell_type": "code",
   "execution_count": 25,
   "metadata": {},
   "outputs": [
    {
     "name": "stdout",
     "output_type": "stream",
     "text": [
      "Plot the L2 Regularization loss for our Test\n"
     ]
    },
    {
     "data": {
      "image/png": "[encoded data removed]",
      "text/plain": [
       "<matplotlib.figure.Figure at 0x1161b1450>"
      ]
     },
     "metadata": {},
     "output_type": "display_data"
    },
    {
     "name": "stdout",
     "output_type": "stream",
     "text": [
      "Maximum accuracy is 92.94% with L2 Regularization constant of 0.000316\n"
     ]
    }
   ],
   "source": [
    "print('Plot the L2 Regularization loss for our Test')\n",
    "plt.semilogx(l2_constant_values, accuracy_values)\n",
    "plt.grid(True)\n",
    "plt.title('Accuracy against L2 regularization (Multi Layer Neural Network)')\n",
    "plt.show()\n",
    "print('Maximum accuracy is %.2f%% with L2 Regularization constant of %f' % (max_accuracy, best_l2_constant))"
   ]
  },
  {
   "cell_type": "markdown",
   "metadata": {},
   "source": [
    "With the Network configuration of 2 Hidden Layers with 1024, 200 nodes and a dropout rate of 0.5 we got an accuracy of 92.94% using a L2 Regularization value of 0.000316.\n",
    "\n",
    "---"
   ]
  }
 ],
 "metadata": {
  "colab": {
   "default_view": {},
   "name": "3_regularization.ipynb",
   "provenance": [],
   "version": "0.3.2",
   "views": {}
  },
  "kernelspec": {
   "display_name": "Python (tensorflow)",
   "language": "python",
   "name": "tensorflow"
  },
  "language_info": {
   "codemirror_mode": {
    "name": "ipython",
    "version": 2
   },
   "file_extension": ".py",
   "mimetype": "text/x-python",
   "name": "python",
   "nbconvert_exporter": "python",
   "pygments_lexer": "ipython2",
   "version": "2.7.14"
  }
 },
 "nbformat": 4,
 "nbformat_minor": 1
}
